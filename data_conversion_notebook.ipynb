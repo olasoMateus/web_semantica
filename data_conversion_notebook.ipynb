{
 "cells": [
  {
   "cell_type": "code",
   "execution_count": 1,
   "metadata": {},
   "outputs": [],
   "source": [
    "import pandas as pd #for handling csv and csv contents\n",
    "from rdflib import Graph, Literal, RDF, URIRef, Namespace #basic RDF handling\n",
    "from rdflib.namespace import FOAF , XSD #most common namespaces\n",
    "import urllib.parse #for parsing strings to URI's"
   ]
  },
  {
   "cell_type": "code",
   "execution_count": 2,
   "metadata": {},
   "outputs": [],
   "source": [
    "df2 = pd.read_json(r\"C:\\Users\\Mateus Olaso\\Documents\\GitHub\\web_semantica\\station_data.json\")"
   ]
  },
  {
   "cell_type": "code",
   "execution_count": 3,
   "metadata": {},
   "outputs": [],
   "source": [
    "sharing_station = Namespace('http://www.w3id.org/urban-iot/sharing#PhysicalSharingStation')\n",
    "station = Namespace('http://example.org/station/')\n",
    "station_name = Namespace('http://xmlns.com/foaf/0.1/name/')\n",
    "schema_adress = Namespace('http://schema.org/address')\n",
    "state = Namespace('http://w3id.org/urban-iot/kos/sharing/dock-state#')\n",
    "numberOfDocks = Namespace('http://www.w3id.org/urban-iot/sharing#numberOfDocks')\n",
    "availableVehicles = Namespace('http://www.w3id.org/urban-iot/sharing#AvailableVehicles')\n",
    "latitude = Namespace('http://www.w3.org/2003/01/geo/wgs84_pos#lat')\n",
    "longitude = Namespace('http://www.w3.org/2003/01/geo/wgs84_pos#long')\n",
    "isStationActive = Namespace('http://www.w3id.org/urban-iot/sharing#isStationActive')\n",
    "\n",
    "\n",
    "h = Graph()"
   ]
  },
  {
   "cell_type": "code",
   "execution_count": 5,
   "metadata": {},
   "outputs": [],
   "source": [
    "for i in df2[\"features\"]:\n",
    "    h.add((URIRef(station+str(i['properties']['kioskId'])), RDF.type, URIRef(sharing_station)))\n",
    "    h.add((URIRef(station+str(i['properties']['kioskId'])), URIRef(station_name), Literal(i['properties']['name'], datatype=XSD.string) ))\n",
    "    h.add((URIRef(station+str(i['properties']['kioskId'])), URIRef(schema_adress), Literal(i['properties']['addressStreet'] + \", \" + i['properties']['addressCity'] + \", \" + i['properties']['addressState'], datatype=XSD.string) ))\n",
    "    h.add((URIRef(station+str(i['properties']['kioskId'])), URIRef(availableVehicles), Literal(i['properties']['bikesAvailable'], datatype=XSD.integer) ))\n",
    "    h.add((URIRef(station+str(i['properties']['kioskId'])), URIRef(numberOfDocks), Literal(i['properties']['totalDocks'], datatype=XSD.integer) ))\n",
    "    h.add((URIRef(station+str(i['properties']['kioskId'])), URIRef(latitude), Literal(i['properties']['latitude'], datatype=XSD.integer) ))\n",
    "    h.add((URIRef(station+str(i['properties']['kioskId'])), URIRef(longitude), Literal(i['properties']['longitude'], datatype=XSD.integer) ))\n",
    "    if(i['properties']['kioskPublicStatus'] == \"Active\"):\n",
    "        h.add((URIRef(station+str(i['properties']['kioskId'])), URIRef(isStationActive), Literal(True, datatype=XSD.boolean) ))\n",
    "    else:\n",
    "        h.add((URIRef(station+str(i['properties']['kioskId'])), URIRef(isStationActive), Literal(False, datatype=XSD.boolean) ))\n",
    "\n",
    "    # g.add((URIRef(station+str(row['Station_ID'])), URIRef(state), Literal(row['Status'], datatype=XSD.string) ))"
   ]
  },
  {
   "cell_type": "code",
   "execution_count": 6,
   "metadata": {},
   "outputs": [
    {
     "data": {
      "text/plain": [
       "<Graph identifier=N630c0c9dc8124ba79f2bcbdae3aa6934 (<class 'rdflib.graph.Graph'>)>"
      ]
     },
     "execution_count": 6,
     "metadata": {},
     "output_type": "execute_result"
    }
   ],
   "source": [
    "h.serialize('test.ttl',format='turtle')"
   ]
  },
  {
   "cell_type": "code",
   "execution_count": 10,
   "metadata": {},
   "outputs": [],
   "source": [
    "df = pd.read_csv(r\"C:\\Users\\Mateus Olaso\\Documents\\GitHub\\web_semantica\\metro-trips-2023-q2.csv\", sep=\",\", encoding='cp1252')"
   ]
  },
  {
   "cell_type": "code",
   "execution_count": 11,
   "metadata": {},
   "outputs": [],
   "source": [
    "j = Graph()\n",
    "\n",
    "hasTripStartingStation = Namespace('http://www.w3id.org/urban-iot/sharing#hasStartingStation')\n",
    "hasTripEndingStation = Namespace('http://www.w3id.org/urban-iot/sharing#hasEndingStation')\n",
    "tripDuration = Namespace('http://www.w3id.org/urban-iot/sharing#tripDuration')\n",
    "tripType = Namespace('http://www.w3id.org/urban-iot/sharing#SharingMobilityTrip')\n",
    "trip = Namespace('http://example.org/trip/')\n",
    "sharingMobilityBicycle = Namespace('http://www.w3id.org/urban-iot/sharing#SharingMobilityBicycle/')\n",
    "usesVehicle = Namespace('http://www.w3id.org/urban-iot/sharing#usesVehicle')\n",
    "hasPropulsionKind = Namespace('http://www.w3id.org/urban-iot/sharing#hasPropulsionKind')"
   ]
  },
  {
   "cell_type": "code",
   "execution_count": 14,
   "metadata": {},
   "outputs": [],
   "source": [
    "for index, row in df.iterrows():\n",
    "    j.add((URIRef(trip+str(row['trip_id'])), RDF.type, URIRef(tripType)))\n",
    "    j.add((URIRef(trip+str(row['trip_id'])), URIRef(tripDuration), Literal(row['duration'], datatype=XSD.integer)))\n",
    "    j.add((URIRef(trip+str(row['trip_id'])), URIRef(hasTripStartingStation), URIRef(station + str(row['start_station']))))\n",
    "    j.add((URIRef(trip+str(row['trip_id'])), URIRef(hasTripEndingStation), URIRef(station + str(row['end_station']))))\n",
    "    j.add((URIRef(trip+str(row['trip_id'])), URIRef(usesVehicle), URIRef(sharingMobilityBicycle + str(row['bike_id']))))\n",
    "    j.add((URIRef(trip+str(row['trip_id'])), URIRef(hasPropulsionKind), Literal(row['bike_type'], datatype=XSD.string)))\n",
    "    "
   ]
  },
  {
   "cell_type": "code",
   "execution_count": 16,
   "metadata": {},
   "outputs": [
    {
     "data": {
      "text/plain": [
       "<Graph identifier=Ne5a78a5acdc14dc6ac0353cac9c8901a (<class 'rdflib.graph.Graph'>)>"
      ]
     },
     "execution_count": 16,
     "metadata": {},
     "output_type": "execute_result"
    }
   ],
   "source": [
    "j.serialize('test2.ttl',format='turtle')"
   ]
  }
 ],
 "metadata": {
  "kernelspec": {
   "display_name": "Python 3",
   "language": "python",
   "name": "python3"
  },
  "language_info": {
   "codemirror_mode": {
    "name": "ipython",
    "version": 3
   },
   "file_extension": ".py",
   "mimetype": "text/x-python",
   "name": "python",
   "nbconvert_exporter": "python",
   "pygments_lexer": "ipython3",
   "version": "3.11.4"
  },
  "orig_nbformat": 4
 },
 "nbformat": 4,
 "nbformat_minor": 2
}
